{
 "cells": [
  {
   "cell_type": "code",
   "execution_count": 5,
   "metadata": {},
   "outputs": [
    {
     "name": "stdout",
     "output_type": "stream",
     "text": [
      "2.18.0\n",
      "3.8.0\n"
     ]
    }
   ],
   "source": [
    "import tensorflow as tf\n",
    "import matplotlib.pyplot as plt\n",
    "import seaborn as sns\n",
    "import pandas as pd\n",
    "from tensorflow.keras.utils import image_dataset_from_directory\n",
    "print(tf.__version__)\n",
    "print(tf.keras.__version__)"
   ]
  },
  {
   "cell_type": "code",
   "execution_count": 11,
   "metadata": {},
   "outputs": [],
   "source": [
    "## Data Preparation"
   ]
  },
  {
   "cell_type": "code",
   "execution_count": 12,
   "metadata": {},
   "outputs": [
    {
     "name": "stdout",
     "output_type": "stream",
     "text": [
      "Found 76515 files belonging to 4 classes.\n"
     ]
    }
   ],
   "source": [
    "training_set = image_dataset_from_directory(\n",
    "    \"./train\",\n",
    "    labels=\"inferred\",\n",
    "    label_mode=\"categorical\",\n",
    "    class_names=None,\n",
    "    color_mode=\"rgb\",\n",
    "    batch_size=32,\n",
    "    image_size=(224, 224),\n",
    "    shuffle=True,\n",
    "    seed=None,\n",
    "    validation_split=None,\n",
    "    subset=None,\n",
    "    interpolation=\"bilinear\",\n",
    "    follow_links=False,\n",
    "    crop_to_aspect_ratio=False,\n",
    "   \n",
    ")\n"
   ]
  },
  {
   "cell_type": "code",
   "execution_count": 13,
   "metadata": {},
   "outputs": [
    {
     "name": "stdout",
     "output_type": "stream",
     "text": [
      "Found 21861 files belonging to 4 classes.\n"
     ]
    }
   ],
   "source": [
    "validation_set = image_dataset_from_directory(\n",
    "    \"./val\",\n",
    "    labels=\"inferred\",\n",
    "    label_mode=\"categorical\",\n",
    "    class_names=None,\n",
    "    color_mode=\"rgb\",\n",
    "    batch_size=32,\n",
    "    image_size=(224, 224),\n",
    "    shuffle=True,\n",
    "    seed=None,\n",
    "    validation_split=None,\n",
    "    subset=None,\n",
    "    interpolation=\"bilinear\",\n",
    "    follow_links=False,\n",
    "    crop_to_aspect_ratio=False,\n",
    "   \n",
    ")\n"
   ]
  },
  {
   "cell_type": "code",
   "execution_count": 14,
   "metadata": {},
   "outputs": [
    {
     "data": {
      "text/plain": [
       "<_PrefetchDataset element_spec=(TensorSpec(shape=(None, 224, 224, 3), dtype=tf.float32, name=None), TensorSpec(shape=(None, 4), dtype=tf.float32, name=None))>"
      ]
     },
     "execution_count": 14,
     "metadata": {},
     "output_type": "execute_result"
    }
   ],
   "source": [
    "training_set"
   ]
  },
  {
   "cell_type": "code",
   "execution_count": 15,
   "metadata": {},
   "outputs": [],
   "source": [
    "INPUT_SHAPE = (224,224,3)"
   ]
  },
  {
   "cell_type": "code",
   "execution_count": 16,
   "metadata": {},
   "outputs": [
    {
     "name": "stdout",
     "output_type": "stream",
     "text": [
      "Downloading data from https://storage.googleapis.com/tensorflow/keras-applications/mobilenet_v3/weights_mobilenet_v3_large_224_1.0_float.h5\n",
      "\u001b[1m22661472/22661472\u001b[0m \u001b[32m━━━━━━━━━━━━━━━━━━━━\u001b[0m\u001b[37m\u001b[0m \u001b[1m9s\u001b[0m 0us/step\n"
     ]
    }
   ],
   "source": [
    "mobnet = tf.keras.applications.MobileNetV3Large(\n",
    "    input_shape=INPUT_SHAPE,\n",
    "    alpha=1.0,\n",
    "    minimalistic=False,\n",
    "    include_top=True,\n",
    "    weights=\"imagenet\",\n",
    "    input_tensor=None,\n",
    "    classes=1000,\n",
    "    pooling=None,\n",
    "    dropout_rate=0.2,\n",
    "    classifier_activation=\"softmax\",\n",
    "    include_preprocessing=True,\n",
    "    # name=\"MobileNetV3Large\",\n",
    ")"
   ]
  },
  {
   "cell_type": "code",
   "execution_count": null,
   "metadata": {},
   "outputs": [],
   "source": [
    "#if you want to learn transfer learning ,then use it excecute this cell\n",
    "# mobnet.trainable = False #-- used to free weights of this pretrained model"
   ]
  },
  {
   "cell_type": "code",
   "execution_count": 34,
   "metadata": {},
   "outputs": [],
   "source": [
    "model = tf.keras.models.Sequential()\n"
   ]
  },
  {
   "cell_type": "code",
   "execution_count": 35,
   "metadata": {},
   "outputs": [],
   "source": [
    "model.add(tf.keras.Input(shape=INPUT_SHAPE)) #input layer"
   ]
  },
  {
   "cell_type": "code",
   "execution_count": 36,
   "metadata": {},
   "outputs": [],
   "source": [
    "model.add(mobnet)"
   ]
  },
  {
   "cell_type": "code",
   "execution_count": 37,
   "metadata": {},
   "outputs": [],
   "source": [
    "model.add(tf.keras.layers.Dense(units=4,activation=\"softmax\")) #output layer"
   ]
  },
  {
   "cell_type": "code",
   "execution_count": 38,
   "metadata": {},
   "outputs": [],
   "source": [
    "metrics_list = [\"accuracy\",tf.keras.metrics.F1Score()]"
   ]
  },
  {
   "cell_type": "code",
   "execution_count": 39,
   "metadata": {},
   "outputs": [],
   "source": [
    "model.compile(optimizer=tf.keras.optimizers.Adam(learning_rate=0.0001), loss=\"categorical_crossentropy\",metrics=metrics_list)"
   ]
  },
  {
   "cell_type": "code",
   "execution_count": 40,
   "metadata": {},
   "outputs": [
    {
     "data": {
      "text/html": [
       "<pre style=\"white-space:pre;overflow-x:auto;line-height:normal;font-family:Menlo,'DejaVu Sans Mono',consolas,'Courier New',monospace\"><span style=\"font-weight: bold\">Model: \"sequential_2\"</span>\n",
       "</pre>\n"
      ],
      "text/plain": [
       "\u001b[1mModel: \"sequential_2\"\u001b[0m\n"
      ]
     },
     "metadata": {},
     "output_type": "display_data"
    },
    {
     "data": {
      "text/html": [
       "<pre style=\"white-space:pre;overflow-x:auto;line-height:normal;font-family:Menlo,'DejaVu Sans Mono',consolas,'Courier New',monospace\">┏━━━━━━━━━━━━━━━━━━━━━━━━━━━━━━━━━┳━━━━━━━━━━━━━━━━━━━━━━━━┳━━━━━━━━━━━━━━━┓\n",
       "┃<span style=\"font-weight: bold\"> Layer (type)                    </span>┃<span style=\"font-weight: bold\"> Output Shape           </span>┃<span style=\"font-weight: bold\">       Param # </span>┃\n",
       "┡━━━━━━━━━━━━━━━━━━━━━━━━━━━━━━━━━╇━━━━━━━━━━━━━━━━━━━━━━━━╇━━━━━━━━━━━━━━━┩\n",
       "│ MobileNetV3Large (<span style=\"color: #0087ff; text-decoration-color: #0087ff\">Functional</span>)   │ (<span style=\"color: #00d7ff; text-decoration-color: #00d7ff\">None</span>, <span style=\"color: #00af00; text-decoration-color: #00af00\">1000</span>)           │     <span style=\"color: #00af00; text-decoration-color: #00af00\">5,507,432</span> │\n",
       "├─────────────────────────────────┼────────────────────────┼───────────────┤\n",
       "│ dense_2 (<span style=\"color: #0087ff; text-decoration-color: #0087ff\">Dense</span>)                 │ (<span style=\"color: #00d7ff; text-decoration-color: #00d7ff\">None</span>, <span style=\"color: #00af00; text-decoration-color: #00af00\">4</span>)              │         <span style=\"color: #00af00; text-decoration-color: #00af00\">4,004</span> │\n",
       "└─────────────────────────────────┴────────────────────────┴───────────────┘\n",
       "</pre>\n"
      ],
      "text/plain": [
       "┏━━━━━━━━━━━━━━━━━━━━━━━━━━━━━━━━━┳━━━━━━━━━━━━━━━━━━━━━━━━┳━━━━━━━━━━━━━━━┓\n",
       "┃\u001b[1m \u001b[0m\u001b[1mLayer (type)                   \u001b[0m\u001b[1m \u001b[0m┃\u001b[1m \u001b[0m\u001b[1mOutput Shape          \u001b[0m\u001b[1m \u001b[0m┃\u001b[1m \u001b[0m\u001b[1m      Param #\u001b[0m\u001b[1m \u001b[0m┃\n",
       "┡━━━━━━━━━━━━━━━━━━━━━━━━━━━━━━━━━╇━━━━━━━━━━━━━━━━━━━━━━━━╇━━━━━━━━━━━━━━━┩\n",
       "│ MobileNetV3Large (\u001b[38;5;33mFunctional\u001b[0m)   │ (\u001b[38;5;45mNone\u001b[0m, \u001b[38;5;34m1000\u001b[0m)           │     \u001b[38;5;34m5,507,432\u001b[0m │\n",
       "├─────────────────────────────────┼────────────────────────┼───────────────┤\n",
       "│ dense_2 (\u001b[38;5;33mDense\u001b[0m)                 │ (\u001b[38;5;45mNone\u001b[0m, \u001b[38;5;34m4\u001b[0m)              │         \u001b[38;5;34m4,004\u001b[0m │\n",
       "└─────────────────────────────────┴────────────────────────┴───────────────┘\n"
      ]
     },
     "metadata": {},
     "output_type": "display_data"
    },
    {
     "data": {
      "text/html": [
       "<pre style=\"white-space:pre;overflow-x:auto;line-height:normal;font-family:Menlo,'DejaVu Sans Mono',consolas,'Courier New',monospace\"><span style=\"font-weight: bold\"> Total params: </span><span style=\"color: #00af00; text-decoration-color: #00af00\">5,511,436</span> (21.02 MB)\n",
       "</pre>\n"
      ],
      "text/plain": [
       "\u001b[1m Total params: \u001b[0m\u001b[38;5;34m5,511,436\u001b[0m (21.02 MB)\n"
      ]
     },
     "metadata": {},
     "output_type": "display_data"
    },
    {
     "data": {
      "text/html": [
       "<pre style=\"white-space:pre;overflow-x:auto;line-height:normal;font-family:Menlo,'DejaVu Sans Mono',consolas,'Courier New',monospace\"><span style=\"font-weight: bold\"> Trainable params: </span><span style=\"color: #00af00; text-decoration-color: #00af00\">5,487,036</span> (20.93 MB)\n",
       "</pre>\n"
      ],
      "text/plain": [
       "\u001b[1m Trainable params: \u001b[0m\u001b[38;5;34m5,487,036\u001b[0m (20.93 MB)\n"
      ]
     },
     "metadata": {},
     "output_type": "display_data"
    },
    {
     "data": {
      "text/html": [
       "<pre style=\"white-space:pre;overflow-x:auto;line-height:normal;font-family:Menlo,'DejaVu Sans Mono',consolas,'Courier New',monospace\"><span style=\"font-weight: bold\"> Non-trainable params: </span><span style=\"color: #00af00; text-decoration-color: #00af00\">24,400</span> (95.31 KB)\n",
       "</pre>\n"
      ],
      "text/plain": [
       "\u001b[1m Non-trainable params: \u001b[0m\u001b[38;5;34m24,400\u001b[0m (95.31 KB)\n"
      ]
     },
     "metadata": {},
     "output_type": "display_data"
    }
   ],
   "source": [
    "model.summary()"
   ]
  },
  {
   "cell_type": "code",
   "execution_count": null,
   "metadata": {},
   "outputs": [
    {
     "name": "stdout",
     "output_type": "stream",
     "text": [
      "Epoch 1/15\n",
      "\u001b[1m2392/2392\u001b[0m \u001b[32m━━━━━━━━━━━━━━━━━━━━\u001b[0m\u001b[37m\u001b[0m \u001b[1m3374s\u001b[0m 1s/step - accuracy: 0.8007 - f1_score: 0.4487 - loss: 1.2202 - val_accuracy: 0.8702 - val_f1_score: 0.6472 - val_loss: 0.9872\n",
      "Epoch 2/15\n",
      "\u001b[1m2392/2392\u001b[0m \u001b[32m━━━━━━━━━━━━━━━━━━━━\u001b[0m\u001b[37m\u001b[0m \u001b[1m3210s\u001b[0m 1s/step - accuracy: 0.8958 - f1_score: 0.6923 - loss: 0.9128 - val_accuracy: 0.8953 - val_f1_score: 0.6922 - val_loss: 0.7619\n",
      "Epoch 3/15\n",
      "\u001b[1m2392/2392\u001b[0m \u001b[32m━━━━━━━━━━━━━━━━━━━━\u001b[0m\u001b[37m\u001b[0m \u001b[1m3206s\u001b[0m 1s/step - accuracy: 0.9007 - f1_score: 0.6996 - loss: 0.7176 - val_accuracy: 0.9054 - val_f1_score: 0.7052 - val_loss: 0.6144\n",
      "Epoch 4/15\n",
      "\u001b[1m2392/2392\u001b[0m \u001b[32m━━━━━━━━━━━━━━━━━━━━\u001b[0m\u001b[37m\u001b[0m \u001b[1m3200s\u001b[0m 1s/step - accuracy: 0.8993 - f1_score: 0.7034 - loss: 0.5727 - val_accuracy: 0.9027 - val_f1_score: 0.7011 - val_loss: 0.4940\n",
      "Epoch 5/15\n",
      "\u001b[1m2392/2392\u001b[0m \u001b[32m━━━━━━━━━━━━━━━━━━━━\u001b[0m\u001b[37m\u001b[0m \u001b[1m3199s\u001b[0m 1s/step - accuracy: 0.9079 - f1_score: 0.7284 - loss: 0.4447 - val_accuracy: 0.9554 - val_f1_score: 0.9177 - val_loss: 0.3833\n",
      "Epoch 6/15\n",
      "\u001b[1m2392/2392\u001b[0m \u001b[32m━━━━━━━━━━━━━━━━━━━━\u001b[0m\u001b[37m\u001b[0m \u001b[1m3215s\u001b[0m 1s/step - accuracy: 0.9612 - f1_score: 0.9315 - loss: 0.3533 - val_accuracy: 0.9587 - val_f1_score: 0.9311 - val_loss: 0.3037\n",
      "Epoch 7/15\n",
      "\u001b[1m2392/2392\u001b[0m \u001b[32m━━━━━━━━━━━━━━━━━━━━\u001b[0m\u001b[37m\u001b[0m \u001b[1m3203s\u001b[0m 1s/step - accuracy: 0.9680 - f1_score: 0.9441 - loss: 0.2780 - val_accuracy: 0.9671 - val_f1_score: 0.9430 - val_loss: 0.2402\n",
      "Epoch 8/15\n",
      "\u001b[1m2392/2392\u001b[0m \u001b[32m━━━━━━━━━━━━━━━━━━━━\u001b[0m\u001b[37m\u001b[0m \u001b[1m3222s\u001b[0m 1s/step - accuracy: 0.9715 - f1_score: 0.9502 - loss: 0.2220 - val_accuracy: 0.9283 - val_f1_score: 0.8901 - val_loss: 0.2924\n",
      "Epoch 9/15\n",
      "\u001b[1m2392/2392\u001b[0m \u001b[32m━━━━━━━━━━━━━━━━━━━━\u001b[0m\u001b[37m\u001b[0m \u001b[1m3210s\u001b[0m 1s/step - accuracy: 0.9751 - f1_score: 0.9568 - loss: 0.1778 - val_accuracy: 0.9702 - val_f1_score: 0.9486 - val_loss: 0.1686\n",
      "Epoch 10/15\n",
      "\u001b[1m2392/2392\u001b[0m \u001b[32m━━━━━━━━━━━━━━━━━━━━\u001b[0m\u001b[37m\u001b[0m \u001b[1m3213s\u001b[0m 1s/step - accuracy: 0.9799 - f1_score: 0.9644 - loss: 0.1418 - val_accuracy: 0.9721 - val_f1_score: 0.9506 - val_loss: 0.1521\n",
      "Epoch 11/15\n",
      "\u001b[1m2392/2392\u001b[0m \u001b[32m━━━━━━━━━━━━━━━━━━━━\u001b[0m\u001b[37m\u001b[0m \u001b[1m3475s\u001b[0m 1s/step - accuracy: 0.9817 - f1_score: 0.9678 - loss: 0.1181 - val_accuracy: 0.9738 - val_f1_score: 0.9542 - val_loss: 0.1320\n",
      "Epoch 12/15\n",
      "\u001b[1m2392/2392\u001b[0m \u001b[32m━━━━━━━━━━━━━━━━━━━━\u001b[0m\u001b[37m\u001b[0m \u001b[1m3234s\u001b[0m 1s/step - accuracy: 0.9844 - f1_score: 0.9729 - loss: 0.0976 - val_accuracy: 0.9737 - val_f1_score: 0.9527 - val_loss: 0.1255\n",
      "Epoch 13/15\n",
      "\u001b[1m2392/2392\u001b[0m \u001b[32m━━━━━━━━━━━━━━━━━━━━\u001b[0m\u001b[37m\u001b[0m \u001b[1m3252s\u001b[0m 1s/step - accuracy: 0.9863 - f1_score: 0.9761 - loss: 0.0836 - val_accuracy: 0.9737 - val_f1_score: 0.9535 - val_loss: 0.1164\n",
      "Epoch 14/15\n",
      "\u001b[1m2392/2392\u001b[0m \u001b[32m━━━━━━━━━━━━━━━━━━━━\u001b[0m\u001b[37m\u001b[0m \u001b[1m3269s\u001b[0m 1s/step - accuracy: 0.9876 - f1_score: 0.9786 - loss: 0.0729 - val_accuracy: 0.9709 - val_f1_score: 0.9498 - val_loss: 0.1183\n",
      "Epoch 15/15\n",
      "\u001b[1m2392/2392\u001b[0m \u001b[32m━━━━━━━━━━━━━━━━━━━━\u001b[0m\u001b[37m\u001b[0m \u001b[1m3516s\u001b[0m 1s/step - accuracy: 0.9893 - f1_score: 0.9814 - loss: 0.0631 - val_accuracy: 0.9611 - val_f1_score: 0.9350 - val_loss: 0.1420\n"
     ]
    }
   ],
   "source": [
    "training_history = model.fit(x=training_set,validation_data=validation_set,epochs=15) # 12-hour training required"
   ]
  },
  {
   "cell_type": "code",
   "execution_count": 44,
   "metadata": {},
   "outputs": [
    {
     "name": "stderr",
     "output_type": "stream",
     "text": [
      "WARNING:absl:You are saving your model as an HDF5 file via `model.save()` or `keras.saving.save_model(model)`. This file format is considered legacy. We recommend using instead the native Keras format, e.g. `model.save('my_model.keras')` or `keras.saving.save_model(model, 'my_model.keras')`. \n"
     ]
    }
   ],
   "source": [
    "model.save(\"./Trained_Eye_disease_model.h5\")\n",
    "model.save(\"./Trained_Eye_disease_model.keras\")"
   ]
  },
  {
   "cell_type": "code",
   "execution_count": 47,
   "metadata": {},
   "outputs": [],
   "source": [
    "#Saving history\n",
    "import pickle\n",
    "with open(\"Trained_history.pkl\",\"wb\") as f:\n",
    "    pickle.dump(training_history.history,f)"
   ]
  },
  {
   "cell_type": "code",
   "execution_count": 5,
   "metadata": {},
   "outputs": [
    {
     "name": "stdout",
     "output_type": "stream",
     "text": [
      "{'accuracy': [0.8202835917472839, 0.89735347032547, 0.9002810120582581, 0.8986865282058716, 0.9228255748748779, 0.9631575345993042, 0.9696268439292908, 0.9727635383605957, 0.976161539554596, 0.9803436994552612, 0.983022928237915, 0.9845651388168335, 0.9868783950805664, 0.9879500865936279, 0.989361584186554], 'f1_score': [<tf.Tensor: shape=(4,), dtype=float32, numpy=array([0.8892085 , 0.28974968, 0.        , 0.8985547 ], dtype=float32)>, <tf.Tensor: shape=(4,), dtype=float32, numpy=array([0.8940988 , 0.910278  , 0.        , 0.97342926], dtype=float32)>, <tf.Tensor: shape=(4,), dtype=float32, numpy=array([0.89374113, 0.92380536, 0.        , 0.97715783], dtype=float32)>, <tf.Tensor: shape=(4,), dtype=float32, numpy=array([0.9330748 , 0.93864685, 0.        , 0.938841  ], dtype=float32)>, <tf.Tensor: shape=(4,), dtype=float32, numpy=array([0.91384673, 0.9473878 , 0.40822315, 0.9826498 ], dtype=float32)>, <tf.Tensor: shape=(4,), dtype=float32, numpy=array([0.9667659 , 0.95283884, 0.8364784 , 0.9845505 ], dtype=float32)>, <tf.Tensor: shape=(4,), dtype=float32, numpy=array([0.97328365, 0.9614551 , 0.86507034, 0.9867202 ], dtype=float32)>, <tf.Tensor: shape=(4,), dtype=float32, numpy=array([0.97566664, 0.9666191 , 0.8785405 , 0.9883651 ], dtype=float32)>, <tf.Tensor: shape=(4,), dtype=float32, numpy=array([0.97868747, 0.9739011 , 0.89118016, 0.9897041 ], dtype=float32)>, <tf.Tensor: shape=(4,), dtype=float32, numpy=array([0.9826693, 0.9769716, 0.9109737, 0.9913989], dtype=float32)>, <tf.Tensor: shape=(4,), dtype=float32, numpy=array([0.98521656, 0.97921556, 0.92399156, 0.99247867], dtype=float32)>, <tf.Tensor: shape=(4,), dtype=float32, numpy=array([0.9865713 , 0.98187214, 0.9305455 , 0.99307257], dtype=float32)>, <tf.Tensor: shape=(4,), dtype=float32, numpy=array([0.9887262, 0.9849121, 0.9396337, 0.9941819], dtype=float32)>, <tf.Tensor: shape=(4,), dtype=float32, numpy=array([0.9896863, 0.9852867, 0.9465   , 0.9944729], dtype=float32)>, <tf.Tensor: shape=(4,), dtype=float32, numpy=array([0.99104255, 0.9872635 , 0.9521217 , 0.99506986], dtype=float32)>], 'loss': [1.1301337480545044, 0.8578413724899292, 0.6829718351364136, 0.5382257103919983, 0.42013314366340637, 0.3324032723903656, 0.2621518075466156, 0.20932693779468536, 0.16839532554149628, 0.13594576716423035, 0.11216714233160019, 0.09491528570652008, 0.08024859428405762, 0.07052634656429291, 0.062177032232284546], 'val_accuracy': [0.8701797723770142, 0.8952929973602295, 0.9053565859794617, 0.9027491807937622, 0.9554000496864319, 0.9586935639381409, 0.967064619064331, 0.9283198118209839, 0.9702209234237671, 0.9721421599388123, 0.9738346934318542, 0.973743200302124, 0.9736517071723938, 0.9709070920944214, 0.9610722064971924], 'val_f1_score': [<tf.Tensor: shape=(4,), dtype=float32, numpy=array([0.90621907, 0.7477429 , 0.        , 0.93478954], dtype=float32)>, <tf.Tensor: shape=(4,), dtype=float32, numpy=array([0.88379794, 0.9062572 , 0.        , 0.9788505 ], dtype=float32)>, <tf.Tensor: shape=(4,), dtype=float32, numpy=array([0.9059315, 0.9415613, 0.       , 0.9731935], dtype=float32)>, <tf.Tensor: shape=(4,), dtype=float32, numpy=array([0.896186  , 0.92923355, 0.        , 0.9788332 ], dtype=float32)>, <tf.Tensor: shape=(4,), dtype=float32, numpy=array([0.96261185, 0.9330489 , 0.79557663, 0.9796372 ], dtype=float32)>, <tf.Tensor: shape=(4,), dtype=float32, numpy=array([0.96882975, 0.93406355, 0.84309006, 0.9782779 ], dtype=float32)>, <tf.Tensor: shape=(4,), dtype=float32, numpy=array([0.97194624, 0.9477292 , 0.8670197 , 0.9853649 ], dtype=float32)>, <tf.Tensor: shape=(4,), dtype=float32, numpy=array([0.9579292 , 0.7931881 , 0.8511137 , 0.95834166], dtype=float32)>, <tf.Tensor: shape=(4,), dtype=float32, numpy=array([0.9748642, 0.9513651, 0.8816964, 0.9866056], dtype=float32)>, <tf.Tensor: shape=(4,), dtype=float32, numpy=array([0.9761174 , 0.95735836, 0.8810748 , 0.98794824], dtype=float32)>, <tf.Tensor: shape=(4,), dtype=float32, numpy=array([0.9775048 , 0.9615555 , 0.88926363, 0.98843   ], dtype=float32)>, <tf.Tensor: shape=(4,), dtype=float32, numpy=array([0.97709614, 0.96344364, 0.8815054 , 0.98880535], dtype=float32)>, <tf.Tensor: shape=(4,), dtype=float32, numpy=array([0.9774135 , 0.96304345, 0.8851715 , 0.98843867], dtype=float32)>, <tf.Tensor: shape=(4,), dtype=float32, numpy=array([0.9752132 , 0.95945346, 0.8777173 , 0.9869525 ], dtype=float32)>, <tf.Tensor: shape=(4,), dtype=float32, numpy=array([0.9608031, 0.9352517, 0.8569969, 0.9870483], dtype=float32)>], 'val_loss': [0.9872469902038574, 0.7619298696517944, 0.614429771900177, 0.4939924478530884, 0.38327041268348694, 0.3036549985408783, 0.24022865295410156, 0.2923760414123535, 0.16860902309417725, 0.1521456092596054, 0.13202157616615295, 0.12546584010124207, 0.11642371863126755, 0.11833471804857254, 0.14198191463947296]}\n"
     ]
    }
   ],
   "source": [
    "#Reloading History From Pickle File\n",
    "import pickle\n",
    "with open(\"Trained_history.pkl\",\"rb\") as f:\n",
    "    load_history = pickle.load(f)\n",
    "print(load_history)    "
   ]
  },
  {
   "cell_type": "code",
   "execution_count": 6,
   "metadata": {},
   "outputs": [
    {
     "data": {
      "text/plain": [
       "dict_keys(['accuracy', 'f1_score', 'loss', 'val_accuracy', 'val_f1_score', 'val_loss'])"
      ]
     },
     "execution_count": 6,
     "metadata": {},
     "output_type": "execute_result"
    }
   ],
   "source": [
    "load_history.keys()"
   ]
  },
  {
   "cell_type": "code",
   "execution_count": null,
   "metadata": {},
   "outputs": [
    {
     "data": {
      "image/png": "[encoded data removed]",
      "text/plain": [
       "<Figure size 640x480 with 1 Axes>"
      ]
     },
     "metadata": {},
     "output_type": "display_data"
    }
   ],
   "source": [
    "#Loss Visualization\n",
    "epochs = [i for i in range(1,16)]\n",
    "plt.plot(epochs,load_history['loss'],color='red',label=\"Training Loss\")\n",
    "plt.plot(epochs,load_history['val_loss'],color='blue',label=\"Validation Loss\")\n",
    "plt.xlabel(\"No of Epocks\")\n",
    "plt.ylabel(\"Loss\")\n",
    "plt.title(\"Visualization of Loss Result\")\n",
    "plt.legend()\n",
    "plt.show()  "
   ]
  },
  {
   "cell_type": "code",
   "execution_count": 8,
   "metadata": {},
   "outputs": [],
   "source": [
    "## Model Evaluation"
   ]
  },
  {
   "cell_type": "code",
   "execution_count": 14,
   "metadata": {},
   "outputs": [
    {
     "name": "stderr",
     "output_type": "stream",
     "text": [
      "C:\\Users\\MILIND- 0509\\AppData\\Roaming\\Python\\Python312\\site-packages\\keras\\src\\saving\\saving_lib.py:757: UserWarning: Skipping variable loading for optimizer 'rmsprop', because it has 178 variables whereas the saved optimizer has 354 variables. \n",
      "  saveable.load_own_variables(weights_store.get(inner_path))\n"
     ]
    }
   ],
   "source": [
    "model = tf.keras.models.load_model(\"Trained_Eye_disease_model.keras\")"
   ]
  },
  {
   "cell_type": "code",
   "execution_count": 3,
   "metadata": {},
   "outputs": [
    {
     "name": "stdout",
     "output_type": "stream",
     "text": [
      "d:\\OneDrive\\Desktop\\Dataset - train+val+test\n"
     ]
    }
   ],
   "source": [
    "import os\n",
    "print(os.getcwd())"
   ]
  },
  {
   "cell_type": "code",
   "execution_count": 4,
   "metadata": {},
   "outputs": [
    {
     "name": "stdout",
     "output_type": "stream",
     "text": [
      "True\n"
     ]
    }
   ],
   "source": [
    "print(os.path.exists(\"./Trained_Eye_disease_model.h5\"))"
   ]
  },
  {
   "cell_type": "code",
   "execution_count": 8,
   "metadata": {},
   "outputs": [
    {
     "name": "stdout",
     "output_type": "stream",
     "text": [
      "2.18.0\n"
     ]
    }
   ],
   "source": [
    "import tensorflow as tf\n",
    "print(tf.__version__)"
   ]
  },
  {
   "cell_type": "code",
   "execution_count": 15,
   "metadata": {},
   "outputs": [
    {
     "data": {
      "text/html": [
       "<pre style=\"white-space:pre;overflow-x:auto;line-height:normal;font-family:Menlo,'DejaVu Sans Mono',consolas,'Courier New',monospace\"><span style=\"font-weight: bold\">Model: \"sequential_2\"</span>\n",
       "</pre>\n"
      ],
      "text/plain": [
       "\u001b[1mModel: \"sequential_2\"\u001b[0m\n"
      ]
     },
     "metadata": {},
     "output_type": "display_data"
    },
    {
     "data": {
      "text/html": [
       "<pre style=\"white-space:pre;overflow-x:auto;line-height:normal;font-family:Menlo,'DejaVu Sans Mono',consolas,'Courier New',monospace\">┏━━━━━━━━━━━━━━━━━━━━━━━━━━━━━━━━━┳━━━━━━━━━━━━━━━━━━━━━━━━┳━━━━━━━━━━━━━━━┓\n",
       "┃<span style=\"font-weight: bold\"> Layer (type)                    </span>┃<span style=\"font-weight: bold\"> Output Shape           </span>┃<span style=\"font-weight: bold\">       Param # </span>┃\n",
       "┡━━━━━━━━━━━━━━━━━━━━━━━━━━━━━━━━━╇━━━━━━━━━━━━━━━━━━━━━━━━╇━━━━━━━━━━━━━━━┩\n",
       "│ MobileNetV3Large (<span style=\"color: #0087ff; text-decoration-color: #0087ff\">Functional</span>)   │ (<span style=\"color: #00d7ff; text-decoration-color: #00d7ff\">None</span>, <span style=\"color: #00af00; text-decoration-color: #00af00\">1000</span>)           │     <span style=\"color: #00af00; text-decoration-color: #00af00\">5,507,432</span> │\n",
       "├─────────────────────────────────┼────────────────────────┼───────────────┤\n",
       "│ dense_2 (<span style=\"color: #0087ff; text-decoration-color: #0087ff\">Dense</span>)                 │ (<span style=\"color: #00d7ff; text-decoration-color: #00d7ff\">None</span>, <span style=\"color: #00af00; text-decoration-color: #00af00\">4</span>)              │         <span style=\"color: #00af00; text-decoration-color: #00af00\">4,004</span> │\n",
       "└─────────────────────────────────┴────────────────────────┴───────────────┘\n",
       "</pre>\n"
      ],
      "text/plain": [
       "┏━━━━━━━━━━━━━━━━━━━━━━━━━━━━━━━━━┳━━━━━━━━━━━━━━━━━━━━━━━━┳━━━━━━━━━━━━━━━┓\n",
       "┃\u001b[1m \u001b[0m\u001b[1mLayer (type)                   \u001b[0m\u001b[1m \u001b[0m┃\u001b[1m \u001b[0m\u001b[1mOutput Shape          \u001b[0m\u001b[1m \u001b[0m┃\u001b[1m \u001b[0m\u001b[1m      Param #\u001b[0m\u001b[1m \u001b[0m┃\n",
       "┡━━━━━━━━━━━━━━━━━━━━━━━━━━━━━━━━━╇━━━━━━━━━━━━━━━━━━━━━━━━╇━━━━━━━━━━━━━━━┩\n",
       "│ MobileNetV3Large (\u001b[38;5;33mFunctional\u001b[0m)   │ (\u001b[38;5;45mNone\u001b[0m, \u001b[38;5;34m1000\u001b[0m)           │     \u001b[38;5;34m5,507,432\u001b[0m │\n",
       "├─────────────────────────────────┼────────────────────────┼───────────────┤\n",
       "│ dense_2 (\u001b[38;5;33mDense\u001b[0m)                 │ (\u001b[38;5;45mNone\u001b[0m, \u001b[38;5;34m4\u001b[0m)              │         \u001b[38;5;34m4,004\u001b[0m │\n",
       "└─────────────────────────────────┴────────────────────────┴───────────────┘\n"
      ]
     },
     "metadata": {},
     "output_type": "display_data"
    },
    {
     "data": {
      "text/html": [
       "<pre style=\"white-space:pre;overflow-x:auto;line-height:normal;font-family:Menlo,'DejaVu Sans Mono',consolas,'Courier New',monospace\"><span style=\"font-weight: bold\"> Total params: </span><span style=\"color: #00af00; text-decoration-color: #00af00\">10,998,474</span> (41.96 MB)\n",
       "</pre>\n"
      ],
      "text/plain": [
       "\u001b[1m Total params: \u001b[0m\u001b[38;5;34m10,998,474\u001b[0m (41.96 MB)\n"
      ]
     },
     "metadata": {},
     "output_type": "display_data"
    },
    {
     "data": {
      "text/html": [
       "<pre style=\"white-space:pre;overflow-x:auto;line-height:normal;font-family:Menlo,'DejaVu Sans Mono',consolas,'Courier New',monospace\"><span style=\"font-weight: bold\"> Trainable params: </span><span style=\"color: #00af00; text-decoration-color: #00af00\">5,487,036</span> (20.93 MB)\n",
       "</pre>\n"
      ],
      "text/plain": [
       "\u001b[1m Trainable params: \u001b[0m\u001b[38;5;34m5,487,036\u001b[0m (20.93 MB)\n"
      ]
     },
     "metadata": {},
     "output_type": "display_data"
    },
    {
     "data": {
      "text/html": [
       "<pre style=\"white-space:pre;overflow-x:auto;line-height:normal;font-family:Menlo,'DejaVu Sans Mono',consolas,'Courier New',monospace\"><span style=\"font-weight: bold\"> Non-trainable params: </span><span style=\"color: #00af00; text-decoration-color: #00af00\">24,400</span> (95.31 KB)\n",
       "</pre>\n"
      ],
      "text/plain": [
       "\u001b[1m Non-trainable params: \u001b[0m\u001b[38;5;34m24,400\u001b[0m (95.31 KB)\n"
      ]
     },
     "metadata": {},
     "output_type": "display_data"
    },
    {
     "data": {
      "text/html": [
       "<pre style=\"white-space:pre;overflow-x:auto;line-height:normal;font-family:Menlo,'DejaVu Sans Mono',consolas,'Courier New',monospace\"><span style=\"font-weight: bold\"> Optimizer params: </span><span style=\"color: #00af00; text-decoration-color: #00af00\">5,487,038</span> (20.93 MB)\n",
       "</pre>\n"
      ],
      "text/plain": [
       "\u001b[1m Optimizer params: \u001b[0m\u001b[38;5;34m5,487,038\u001b[0m (20.93 MB)\n"
      ]
     },
     "metadata": {},
     "output_type": "display_data"
    }
   ],
   "source": [
    "model.summary()"
   ]
  },
  {
   "cell_type": "code",
   "execution_count": 25,
   "metadata": {},
   "outputs": [
    {
     "name": "stdout",
     "output_type": "stream",
     "text": [
      "Found 10932 files belonging to 4 classes.\n"
     ]
    }
   ],
   "source": [
    "test_set = image_dataset_from_directory(\n",
    "    \"./test\",\n",
    "    labels=\"inferred\",\n",
    "    label_mode=\"categorical\",\n",
    "    class_names=None,\n",
    "    color_mode=\"rgb\",\n",
    "    batch_size=32,\n",
    "    image_size=(224, 224),\n",
    "    shuffle=False,\n",
    "    seed=None,\n",
    "    validation_split=None,\n",
    "    subset=None,\n",
    "    interpolation=\"bilinear\",\n",
    "    follow_links=False,\n",
    "    crop_to_aspect_ratio=False,\n",
    "   \n",
    ")\n"
   ]
  },
  {
   "cell_type": "code",
   "execution_count": 26,
   "metadata": {},
   "outputs": [
    {
     "name": "stdout",
     "output_type": "stream",
     "text": [
      "\u001b[1m342/342\u001b[0m \u001b[32m━━━━━━━━━━━━━━━━━━━━\u001b[0m\u001b[37m\u001b[0m \u001b[1m91s\u001b[0m 267ms/step - accuracy: 0.9444 - f1_score: 0.6239 - loss: 0.1828\n"
     ]
    }
   ],
   "source": [
    "test_loss,test_acc,f1_score = model.evaluate(test_set)"
   ]
  },
  {
   "cell_type": "code",
   "execution_count": 27,
   "metadata": {},
   "outputs": [
    {
     "data": {
      "text/plain": [
       "(0.15121842920780182,\n",
       " 0.9585620164871216,\n",
       " <tf.Tensor: shape=(4,), dtype=float32, numpy=array([0.9595598 , 0.9381879 , 0.84156895, 0.98490596], dtype=float32)>)"
      ]
     },
     "execution_count": 27,
     "metadata": {},
     "output_type": "execute_result"
    }
   ],
   "source": [
    "test_loss,test_acc,f1_score"
   ]
  },
  {
   "cell_type": "code",
   "execution_count": null,
   "metadata": {},
   "outputs": [],
   "source": []
  },
  {
   "cell_type": "code",
   "execution_count": 28,
   "metadata": {},
   "outputs": [],
   "source": [
    "#Computing True Label From Test Set\n",
    "true_categories = tf.concat([y for x, y in test_set], axis=0)\n",
    "\n",
    "Y_true = tf.argmax(true_categories,axis=1)"
   ]
  },
  {
   "cell_type": "code",
   "execution_count": 29,
   "metadata": {},
   "outputs": [
    {
     "data": {
      "text/plain": [
       "<tf.Tensor: shape=(10932, 4), dtype=float32, numpy=\n",
       "array([[1., 0., 0., 0.],\n",
       "       [1., 0., 0., 0.],\n",
       "       [1., 0., 0., 0.],\n",
       "       ...,\n",
       "       [0., 0., 0., 1.],\n",
       "       [0., 0., 0., 1.],\n",
       "       [0., 0., 0., 1.]], dtype=float32)>"
      ]
     },
     "execution_count": 29,
     "metadata": {},
     "output_type": "execute_result"
    }
   ],
   "source": [
    "true_categories"
   ]
  },
  {
   "cell_type": "code",
   "execution_count": 30,
   "metadata": {},
   "outputs": [
    {
     "data": {
      "text/plain": [
       "<tf.Tensor: shape=(10932,), dtype=int64, numpy=array([0, 0, 0, ..., 3, 3, 3])>"
      ]
     },
     "execution_count": 30,
     "metadata": {},
     "output_type": "execute_result"
    }
   ],
   "source": [
    "Y_true"
   ]
  },
  {
   "cell_type": "code",
   "execution_count": 31,
   "metadata": {},
   "outputs": [
    {
     "name": "stdout",
     "output_type": "stream",
     "text": [
      "\u001b[1m342/342\u001b[0m \u001b[32m━━━━━━━━━━━━━━━━━━━━\u001b[0m\u001b[37m\u001b[0m \u001b[1m83s\u001b[0m 241ms/step\n"
     ]
    },
    {
     "data": {
      "text/plain": [
       "array([[0.9832743 , 0.00404857, 0.00867759, 0.00399959],\n",
       "       [0.97685754, 0.00694468, 0.01075717, 0.00544064],\n",
       "       [0.9738885 , 0.00702362, 0.0130777 , 0.00601018],\n",
       "       ...,\n",
       "       [0.00306776, 0.00376441, 0.00551273, 0.9876551 ],\n",
       "       [0.00306776, 0.00376441, 0.00551273, 0.9876551 ],\n",
       "       [0.00306776, 0.00376441, 0.00551273, 0.9876551 ]], dtype=float32)"
      ]
     },
     "execution_count": 31,
     "metadata": {},
     "output_type": "execute_result"
    }
   ],
   "source": [
    "#Computing Predicting Label From Test_set\n",
    "predicted_categories = model.predict(test_set)\n",
    "predicted_categories"
   ]
  },
  {
   "cell_type": "code",
   "execution_count": 32,
   "metadata": {},
   "outputs": [
    {
     "data": {
      "text/plain": [
       "<tf.Tensor: shape=(10932,), dtype=int64, numpy=array([0, 0, 0, ..., 3, 3, 3])>"
      ]
     },
     "execution_count": 32,
     "metadata": {},
     "output_type": "execute_result"
    }
   ],
   "source": [
    "Y_Pred = tf.argmax(predicted_categories,axis=1)\n",
    "Y_Pred"
   ]
  },
  {
   "cell_type": "code",
   "execution_count": null,
   "metadata": {},
   "outputs": [],
   "source": [
    "##1. Classification Reports"
   ]
  },
  {
   "cell_type": "code",
   "execution_count": null,
   "metadata": {},
   "outputs": [],
   "source": [
    "##Confusion Matrix"
   ]
  },
  {
   "cell_type": "code",
   "execution_count": null,
   "metadata": {},
   "outputs": [
    {
     "ename": "TypeError",
     "evalue": "heatmap() missing 1 required positional argument: 'data'",
     "output_type": "error",
     "traceback": [
      "\u001b[1;31m---------------------------------------------------------------------------\u001b[0m",
      "\u001b[1;31mTypeError\u001b[0m                                 Traceback (most recent call last)",
      "Cell \u001b[1;32mIn[6], line 2\u001b[0m\n\u001b[0;32m      1\u001b[0m plt\u001b[38;5;241m.\u001b[39mfigure(figsize\u001b[38;5;241m=\u001b[39m( \u001b[38;5;241m10\u001b[39m, \u001b[38;5;241m10\u001b[39m))\n\u001b[1;32m----> 2\u001b[0m \u001b[43msns\u001b[49m\u001b[38;5;241;43m.\u001b[39;49m\u001b[43mheatmap\u001b[49m\u001b[43m(\u001b[49m\u001b[43mannot\u001b[49m\u001b[38;5;241;43m=\u001b[39;49m\u001b[38;5;28;43;01mTrue\u001b[39;49;00m\u001b[43m,\u001b[49m\u001b[43mannot_kws\u001b[49m\u001b[38;5;241;43m=\u001b[39;49m\u001b[43m{\u001b[49m\u001b[38;5;124;43m\"\u001b[39;49m\u001b[38;5;124;43msize\u001b[39;49m\u001b[38;5;124;43m\"\u001b[39;49m\u001b[43m:\u001b[49m\u001b[38;5;241;43m10\u001b[39;49m\u001b[43m}\u001b[49m\u001b[43m)\u001b[49m\n\u001b[0;32m      3\u001b[0m plt\u001b[38;5;241m.\u001b[39mxlabel(\u001b[38;5;124m\"\u001b[39m\u001b[38;5;124mPredicted Label\u001b[39m\u001b[38;5;124m\"\u001b[39m,fontsize\u001b[38;5;241m=\u001b[39m\u001b[38;5;241m20\u001b[39m)\n\u001b[0;32m      4\u001b[0m plt\u001b[38;5;241m.\u001b[39mylabel(\u001b[38;5;124m\"\u001b[39m\u001b[38;5;124mActual  Label\u001b[39m\u001b[38;5;124m\"\u001b[39m,fontsize\u001b[38;5;241m=\u001b[39m\u001b[38;5;241m20\u001b[39m)\n",
      "\u001b[1;31mTypeError\u001b[0m: heatmap() missing 1 required positional argument: 'data'"
     ]
    },
    {
     "data": {
      "text/plain": [
       "<Figure size 1000x1000 with 0 Axes>"
      ]
     },
     "metadata": {},
     "output_type": "display_data"
    }
   ],
   "source": []
  }
 ],
 "metadata": {
  "kernelspec": {
   "display_name": "tensorflow_env",
   "language": "python",
   "name": "python3"
  },
  "language_info": {
   "codemirror_mode": {
    "name": "ipython",
    "version": 3
   },
   "file_extension": ".py",
   "mimetype": "text/x-python",
   "name": "python",
   "nbconvert_exporter": "python",
   "pygments_lexer": "ipython3",
   "version": "3.12.0"
  }
 },
 "nbformat": 4,
 "nbformat_minor": 2
}
